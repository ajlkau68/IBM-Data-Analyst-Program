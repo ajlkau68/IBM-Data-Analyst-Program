{
 "cells": [
  {
   "cell_type": "markdown",
   "metadata": {},
   "source": [
    "# **Dash Basics**"
   ]
  },
  {
   "cell_type": "markdown",
   "metadata": {},
   "source": [
    "This lab shows how to create a basic dash app."
   ]
  },
  {
   "cell_type": "markdown",
   "metadata": {},
   "source": [
    "We will use the wine dataset from the sklearn library."
   ]
  },
  {
   "cell_type": "code",
   "execution_count": null,
   "metadata": {},
   "outputs": [],
   "source": [
    "# Import required libraries\n",
    "\n",
    "import pandas as pd\n",
    "import plotly.express as px\n",
    "import plotly.graph_objects as go\n",
    "from dash import dash, dcc, html\n",
    "import dash_bootstrap_components as dbc\n",
    "from dash.dependencies import Input, Output\n",
    "from sklearn.datasets import load_wine\n"
   ]
  },
  {
   "cell_type": "code",
   "execution_count": null,
   "metadata": {},
   "outputs": [],
   "source": [
    "# load data function\n",
    "def load_data():\n",
    "    wine = load_wine()\n",
    "    wine_df = pd.DataFrame(wine.data, columns=wine.feature_names)\n",
    "    wine_df['WineType'] = [wine.target_names[t] for t in wine.target]\n",
    "    return wine_df\n",
    "\n",
    "wine_df = load_data()"
   ]
  },
  {
   "cell_type": "code",
   "execution_count": null,
   "metadata": {},
   "outputs": [],
   "source": [
    "wine_df.head()"
   ]
  },
  {
   "cell_type": "code",
   "execution_count": null,
   "metadata": {},
   "outputs": [],
   "source": [
    "ingredients = wine_df.drop(columns=['WineType']).columns"
   ]
  },
  {
   "cell_type": "code",
   "execution_count": null,
   "metadata": {},
   "outputs": [],
   "source": [
    "# Compute the average wine dataframe\n",
    "avg_wine_df = wine_df.groupby('WineType').mean().reset_index()"
   ]
  },
  {
   "cell_type": "code",
   "execution_count": null,
   "metadata": {},
   "outputs": [],
   "source": [
    "# create function to create scatter chart\n",
    "\n",
    "def create_scatter_chart(x_axis='alcohol', y_axis='malic_acid', color_encode=False):\n",
    "    scatter_fig = px.scatter(wine_df, x=x_axis, y=y_axis, color='WineType' if color_encode else None,\n",
    "                             title=\"{} vs {}\".format(x_axis.capitalize(), y_axis.capitalize()),\n",
    "                             labels=dict(x_axis=\"{}\".format(x_axis), y_axis=\"{}\".format(y_axis))\n",
    "    )\n",
    "\n",
    "    scatter_fig.update_layout(height=600)\n",
    "    return scatter_fig "
   ]
  },
  {
   "cell_type": "code",
   "execution_count": null,
   "metadata": {},
   "outputs": [],
   "source": [
    "# create function to plot bar chart\n",
    "\n",
    "def create_bar_chart(ingredients=['alcohol', 'malic_acid', 'ash']):\n",
    "    bar_fig = px.bar(avg_wine_df, x='WineType', y=ingredients, \n",
    "                     title='Average Ingredients per Wine Type',\n",
    "                     barmode='group',\n",
    "                     labels=dict(variable='Ingredients', value='WineType'))\n",
    "    bar_fig.update_layout(height=600)\n",
    "\n",
    "    return bar_fig"
   ]
  },
  {
   "cell_type": "code",
   "execution_count": null,
   "metadata": {},
   "outputs": [],
   "source": [
    "# Create widgets\n",
    "\n",
    "# Dropdowns\n",
    "x_axis_dropdown = dcc.Dropdown(id='x_axis', options=ingredients, value='alcohol', clearable=False, style={'display':'inline-block', 'width':'48%'})                               \n",
    "y_axis_dropdown = dcc.Dropdown(id='y_axis', options=ingredients, value='malic_acid', clearable=False, style={'display':'inline-block', 'width':'48%'})\n",
    "color_encode = dcc.Checklist(id='color_encode', options=['Color-Encode',])\n",
    "multi_select = dcc.Dropdown(id='multi_select',options=ingredients,\n",
    "                            value=['alcohol', 'malic_acid', 'ash'],multi=True, clearable=False)"
   ]
  },
  {
   "cell_type": "code",
   "execution_count": null,
   "metadata": {},
   "outputs": [],
   "source": [
    "# Create a dash application\n",
    "\n",
    "app = dash.Dash(external_stylesheets=[dbc.themes.BOOTSTRAP])"
   ]
  },
  {
   "cell_type": "code",
   "execution_count": null,
   "metadata": {},
   "outputs": [],
   "source": [
    "# Create layout for the app\n",
    "app.layout = html.Div([\n",
    "    html.H1('Wine Data Dashboard',\n",
    "            style={'textAlign':'center', 'font-size':40}),\n",
    "\n",
    "            html.Div('Explore relationship between various ingredients used in creation of three different types of wines (class_0, class_1, class_2)'),\n",
    "            html.Br(),\n",
    "            html.Br(),\n",
    "\n",
    "            html.Div(children=[\n",
    "                x_axis_dropdown,\n",
    "                y_axis_dropdown,\n",
    "                color_encode,            \n",
    "                dcc.Graph(id='scatter_chart', figure=create_scatter_chart('alcohol', 'flavanoids')),\n",
    "            ],\n",
    "            style={'display':'inline-block', 'width': '48%'}),\n",
    "\n",
    "            html.Div(children=[\n",
    "                multi_select,\n",
    "                html.Br(),\n",
    "                dcc.Graph(id= 'bar_chart', figure=create_bar_chart(['alcohol', 'malic_acid', 'flavanoids']))\n",
    "            ], style={'display':'inline-block', 'width': '48%'}),\n",
    "            \n",
    "],style={'padding':'30px'})"
   ]
  },
  {
   "cell_type": "code",
   "execution_count": null,
   "metadata": {},
   "outputs": [],
   "source": [
    "# Create callbacks and its finctions\n",
    "\n",
    "@app.callback(Output(component_id='scatter_chart', component_property='figure'),\n",
    "              [Input(component_id='x_axis',component_property='value'),\n",
    "               Input(component_id='y_axis',component_property='value'),\n",
    "               Input(component_id='color_encode',component_property='value')]\n",
    "              )\n",
    "def update_scatter_chart(x_axis, y_axis, color_encode):\n",
    "    return create_scatter_chart(x_axis, y_axis, color_encode)\n",
    "\n",
    "@app.callback(Output(component_id='bar_chart',component_property='figure'),\n",
    "          Input(component_id='multi_select',component_property='value'))\n",
    "def update_bar_chart(ingredients):\n",
    "    return create_bar_chart(ingredients)"
   ]
  },
  {
   "cell_type": "code",
   "execution_count": null,
   "metadata": {},
   "outputs": [],
   "source": [
    "if __name__ == '__main__':\n",
    "    app.run_server(jupyter_mode = 'tab')"
   ]
  }
 ],
 "metadata": {
  "kernelspec": {
   "display_name": "venv2",
   "language": "python",
   "name": "python3"
  },
  "language_info": {
   "codemirror_mode": {
    "name": "ipython",
    "version": 3
   },
   "file_extension": ".py",
   "mimetype": "text/x-python",
   "name": "python",
   "nbconvert_exporter": "python",
   "pygments_lexer": "ipython3",
   "version": "3.10.12"
  }
 },
 "nbformat": 4,
 "nbformat_minor": 2
}
