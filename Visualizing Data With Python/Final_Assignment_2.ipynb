{
 "cells": [
  {
   "cell_type": "markdown",
   "metadata": {},
   "source": [
    "## **Final Assignment 2 - Create Dashboard using Plotly and Dash**"
   ]
  },
  {
   "cell_type": "markdown",
   "metadata": {},
   "source": [
    "### **Scenario:**"
   ]
  },
  {
   "cell_type": "markdown",
   "metadata": {},
   "source": [
    "The objective of this part of the Final Assignment is to analyze the historical trends in automobile sales during recession periods, as you did in the previous part. The goal is to provide insights into how the sales of XYZAutomotives, a company specializing in automotive sales, were affected during times of recession.\n",
    "\n",
    "In this final assignment, you will have the opportunity to demonstrate the **Dashboarding** skills you have acquired in this course. This lab aims to assess your abilities in creating various visualizations using Plotly and Dash. \n",
    "\n",
    "As a data scientist, you have been given a task to prepare a report on your finding from Automobile Sales data analysis. You decided to develop a dashboard representing two main reports:-\n",
    "\n",
    "- Yearly Automobile Sales Statistics\n",
    "- Recession Period Statistics\n",
    "\n",
    "NOTE: Year range is between 1980 and 2013.\n"
   ]
  },
  {
   "cell_type": "code",
   "execution_count": null,
   "metadata": {},
   "outputs": [],
   "source": [
    "# import required libraries\n",
    "\n",
    "import pandas as pd\n",
    "import plotly.express as px\n",
    "from dash import dash, dcc, html\n",
    "import dash_bootstrap_components as dbc\n",
    "from dash.dependencies import Input, Output"
   ]
  },
  {
   "cell_type": "code",
   "execution_count": null,
   "metadata": {},
   "outputs": [],
   "source": [
    "# Load dataset\n",
    "\n",
    "path='https://cf-courses-data.s3.us.cloud-object-storage.appdomain.cloud/IBMDeveloperSkillsNetwork-DA0101EN-SkillsNetwork/labs/Data%20files/historical_automobile_sales.csv'\n",
    "df = pd.read_csv(path)\n",
    "df.head()"
   ]
  },
  {
   "cell_type": "code",
   "execution_count": null,
   "metadata": {},
   "outputs": [],
   "source": [
    "df.info()"
   ]
  },
  {
   "cell_type": "code",
   "execution_count": null,
   "metadata": {},
   "outputs": [],
   "source": [
    "# Create years list\n",
    "years = [i for i in range(1980, 2024, 1)]"
   ]
  },
  {
   "cell_type": "code",
   "execution_count": null,
   "metadata": {},
   "outputs": [],
   "source": [
    "# Create dropdown widgets\n",
    "report_type = [{'label': 'Yearly Statistics', 'value':'Yearly Statistics'},\n",
    "               {'label': 'Recession Period Statistics', 'value':'Recession Statistics'}]\n",
    "\n",
    "year_dropdown = [{'label': i, 'value': i} for i in years]"
   ]
  },
  {
   "cell_type": "code",
   "execution_count": null,
   "metadata": {},
   "outputs": [],
   "source": [
    "# Create dash app\n",
    "app = dash.Dash(__name__, external_stylesheets=[dbc.themes.BOOTSTRAP])"
   ]
  },
  {
   "cell_type": "code",
   "execution_count": null,
   "metadata": {},
   "outputs": [],
   "source": [
    "# Create app layout\n",
    "\n",
    "app.layout = html.Div([\n",
    "    # Title of dashboard\n",
    "    html.H1('Automobile Sales Statistics Dashboard',\n",
    "            style={'textAlign':'center', 'color':'#503D36', 'font-size':24}),\n",
    "    # Div for 1st dropdown\n",
    "    html.Div([\n",
    "        html.Label('Select Statistics'),\n",
    "        dcc.Dropdown(id='dropdown-statistics',\n",
    "                     options=report_type,\n",
    "                     placeholder='Select a report type')\n",
    "    ]),#,style={'width':'80%', 'padding':'3px', 'font-size':20, 'text-align-last':'center'}),\n",
    "    #html.Br(),\n",
    "    # Div for second dropdown\n",
    "    html.Div([\n",
    "        html.Label('Select Year'),\n",
    "        dcc.Dropdown(id='select-year',\n",
    "                     options=year_dropdown,\n",
    "                     value=df.Year.min())\n",
    "    ]),#,style={'width':'80%', 'padding':'3px', 'font-size':20, 'text-align-last':'center'}),\n",
    "    #html.Br(),\n",
    "    # Div for Graphs\n",
    "    html.Div([\n",
    "        html.Div(\n",
    "            id='output-container', className='chart-grid', style={'display':'flex'}\n",
    "        )\n",
    "    ]),\n",
    "\n",
    "])"
   ]
  },
  {
   "cell_type": "code",
   "execution_count": null,
   "metadata": {},
   "outputs": [],
   "source": [
    "# Add callbacks and callback functions\n",
    "\n",
    "# 1st callback for selecting report type, we will use a chained callback where the output of one component serves as the input for another\n",
    "@app.callback(Output(component_id='select-year',component_property='disabled'),\n",
    "              Input(component_id='dropdown-statistics', component_property='value'))\n",
    "def get_statistics(selected_statistics):\n",
    "    if (selected_statistics == 'Yearly Statistics') or (selected_statistics == 'Recession Statistics'):\n",
    "        return False\n",
    "    else:\n",
    "        return True\n",
    "    \n"
   ]
  },
  {
   "cell_type": "code",
   "execution_count": null,
   "metadata": {},
   "outputs": [],
   "source": [
    "# 2nd callback for displaying and updating graphs\n",
    "\n",
    "@app.callback(Output(component_id='output-container', component_property='children'),\n",
    "              [Input(component_id='select-year', component_property='value'),\n",
    "               Input(component_id='dropdown-statistics', component_property='value')])\n",
    "def update_output_container(input_year, selected_statistics):\n",
    "    if (selected_statistics == 'Recession Statistics'):\n",
    "        # Filter the data for recession periods\n",
    "        recession_data = df.query('Recession == 1 and Year == @input_year')\n",
    "\n",
    "        # Create plots for Recession Statistics Report\n",
    "        # Plot 1 - Average automobile Sales using line chart\n",
    "        rec_sales = df.query('Recession == 1').groupby('Year')['Automobile_Sales'].mean().reset_index()\n",
    "        Rchart1 = dcc.Graph(\n",
    "            figure=px.line(rec_sales,\n",
    "                           x='Year',\n",
    "                           y='Automobile_Sales',\n",
    "                           title='Average Automobile Sales per Year')\n",
    "                           )\n",
    "\n",
    "        # Plot 2 - Average no. of vehicles sold by vehicle type using bar chart\n",
    "        vehicle_sales = recession_data.groupby(['Year', 'Vehicle_Type'])['Automobile_Sales'].mean().reset_index()\n",
    "        Rchart2 = dcc.Graph(\n",
    "            figure=px.bar(vehicle_sales,\n",
    "                           x='Vehicle_Type',\n",
    "                           y='Automobile_Sales',\n",
    "                           title=f'Average Sales per Vehicle for {input_year}')\n",
    "                           )\n",
    "\n",
    "        # Plot 3 - Total expenditure share by vehicle type during recession using pie chart\n",
    "        vehicle_exp = recession_data.groupby('Vehicle_Type')['Advertising_Expenditure'].sum().reset_index()\n",
    "        Rchart3 = dcc.Graph(\n",
    "            figure=px.pie(vehicle_exp,\n",
    "                           names='Vehicle_Type',\n",
    "                           values='Advertising_Expenditure',\n",
    "                           title=f'Total Advertising Expenditure per vehicle for {input_year}')\n",
    "                           )\n",
    "\n",
    "        # Plot 4 - Effect of unemployment rate on vehicle type and sales using bar chart\n",
    "        unemployment_effect = recession_data.groupby(['unemployment_rate', 'Vehicle_Type'])['Automobile_Sales'].sum().reset_index() \n",
    "        Rchart4 = dcc.Graph(\n",
    "            figure=px.bar(unemployment_effect,\n",
    "                           x='unemployment_rate',\n",
    "                           y='Automobile_Sales',\n",
    "                           color='Vehicle_Type',\n",
    "                           title=f'Effect of Unemployment Rate on Vehicle Type for {input_year}')\n",
    "                           )\n",
    "        \n",
    "        return [\n",
    "            html.Div(className='chart-item',children=[html.Div(children=Rchart1),html.Div(children=Rchart2)]),\n",
    "            html.Div(className='chart-item',children=[html.Div(children=Rchart3),html.Div(children=Rchart4)])\n",
    "        ]\n",
    "\n",
    "    # Yearly Report Statistics\n",
    "    elif (input_year and selected_statistics == 'Yearly Statistics'):\n",
    "        # Filter the data for years\n",
    "        yearly_data = df.query('Year == @input_year')\n",
    "        \n",
    "        # Create plots for Yearly Report Statistics\n",
    "        # Plot 1 - Yearly Automobile Sales using line chart\n",
    "        yearly_sales = df.groupby('Year')['Automobile_Sales'].mean().reset_index()\n",
    "        Ychart1 = dcc.Graph(\n",
    "            figure=px.line(yearly_sales, x='Year', y='Automobile_Sales',title='Yearly Automobile Sales')\n",
    "        )\n",
    "        \n",
    "        # Plot 2 - Total Monthly Automobile Sales using line chart\n",
    "        monthly_sales = yearly_data.groupby('Month')['Automobile_Sales'].sum().reset_index()\n",
    "        Ychart2 = dcc.Graph(\n",
    "            figure=px.line(monthly_sales,x='Month', y='Automobile_Sales', title=f'Monthly Automobile Sales for {input_year}')\n",
    "        )\n",
    "\n",
    "        # Plot 3 - Average Monthly Automobile Sales of each vehicle type using bar chart\n",
    "        m_sales_per_vehicle = yearly_data.groupby(['Month', 'Vehicle_Type'])['Automobile_Sales'].mean().reset_index()\n",
    "        Ychart3 = dcc.Graph(\n",
    "            figure=px.bar(m_sales_per_vehicle,x='Month', y='Automobile_Sales',color='Vehicle_Type', title=f'Monthly Automobile Sales per Vehicle Type for {input_year}')\n",
    "        )\n",
    "\n",
    "        # Plot 4 - Total Advertisement Expenditure for each Vehicle using horizontal bar chart\n",
    "        advert_exp = yearly_data.groupby('Vehicle_Type')['Advertising_Expenditure'].sum().reset_index().sort_values(by='Advertising_Expenditure',ascending=True)\n",
    "        Ychart4 = dcc.Graph(\n",
    "            figure=px.bar(advert_exp,x='Vehicle_Type', y='Advertising_Expenditure', orientation='h', title=f'Total Advertising Expenditure per Vehicle for {input_year}')\n",
    "        )\n",
    "\n",
    "        return [\n",
    "            html.Div(className='chart-item',children=[html.Div(children=Ychart1),html.Div(children=Ychart2)]),\n",
    "            html.Div(className='chart-item',children=[html.Div(children=Ychart3),html.Div(children=Ychart4)])\n",
    "        ]\n",
    "    \n",
    "    else:\n",
    "        return html.Div()\n",
    "        "
   ]
  },
  {
   "cell_type": "code",
   "execution_count": null,
   "metadata": {},
   "outputs": [],
   "source": [
    "if __name__ == '__main__':\n",
    "    app.run_server(jupyter_mode = 'tab',port=4040)"
   ]
  }
 ],
 "metadata": {
  "kernelspec": {
   "display_name": "venv2",
   "language": "python",
   "name": "python3"
  },
  "language_info": {
   "codemirror_mode": {
    "name": "ipython",
    "version": 3
   },
   "file_extension": ".py",
   "mimetype": "text/x-python",
   "name": "python",
   "nbconvert_exporter": "python",
   "pygments_lexer": "ipython3",
   "version": "3.10.12"
  }
 },
 "nbformat": 4,
 "nbformat_minor": 2
}
