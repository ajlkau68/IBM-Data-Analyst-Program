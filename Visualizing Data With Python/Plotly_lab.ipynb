{
 "cells": [
  {
   "cell_type": "markdown",
   "metadata": {},
   "source": [
    "# **Hands-on Lab on Plotly**"
   ]
  },
  {
   "cell_type": "markdown",
   "metadata": {},
   "source": [
    "Plotly is an interactive, open-source plotting library that supports over 40 unique chart types. It has two sub-modules:\n",
    "\n",
    "- Plotly Graph Objects\n",
    "\n",
    "- Plotly Express"
   ]
  },
  {
   "cell_type": "code",
   "execution_count": null,
   "metadata": {},
   "outputs": [],
   "source": [
    "import plotly.offline as pyo\n",
    "import pandas as pd\n",
    "import matplotlib.pyplot as plt\n",
    "import plotly.graph_objects as go\n",
    "import plotly.express as px\n",
    "\n",
    "\n",
    "%matplotlib inline"
   ]
  },
  {
   "cell_type": "code",
   "execution_count": null,
   "metadata": {},
   "outputs": [],
   "source": [
    "orders = pd.read_excel('sales.xlsx')"
   ]
  },
  {
   "cell_type": "code",
   "execution_count": null,
   "metadata": {},
   "outputs": [],
   "source": [
    "# Let's make a simple plot using matplotlib\n",
    "\n",
    "plt.plot(orders.Sales)\n",
    "plt.show()"
   ]
  },
  {
   "cell_type": "code",
   "execution_count": null,
   "metadata": {},
   "outputs": [],
   "source": [
    "# Let's make the same plot using plotly\n",
    "\n",
    "pyo.plot([{\n",
    "    'x': orders.index,\n",
    "    'y': orders.Sales\n",
    "}])"
   ]
  },
  {
   "cell_type": "markdown",
   "metadata": {},
   "source": [
    "You can see the interactivity that plotly offers. You can zoom into the data to visualize other parts of the data."
   ]
  },
  {
   "cell_type": "code",
   "execution_count": null,
   "metadata": {},
   "outputs": [],
   "source": [
    "# create a subset of the dataset for Sales and Profits\n",
    "\n",
    "orders_sf = orders[['Sales', 'Profit']]"
   ]
  },
  {
   "cell_type": "code",
   "execution_count": null,
   "metadata": {},
   "outputs": [],
   "source": [
    "orders_sf.head()"
   ]
  },
  {
   "cell_type": "code",
   "execution_count": null,
   "metadata": {},
   "outputs": [],
   "source": [
    "pyo.plot([{\n",
    "    'x': orders_sf.index,\n",
    "    'y': orders_sf[col],\n",
    "    'name': col\n",
    "} for col in orders_sf.columns])"
   ]
  },
  {
   "cell_type": "code",
   "execution_count": null,
   "metadata": {},
   "outputs": [],
   "source": [
    "orders.head(3)"
   ]
  },
  {
   "cell_type": "markdown",
   "metadata": {},
   "source": [
    "### Plotly Scatter Plot"
   ]
  },
  {
   "cell_type": "markdown",
   "metadata": {},
   "source": [
    "You can create visualizations on Plotly using the plotly express or plotly graph objects. The plotly express is a recommende starting point for creating the most common figures provided by Plotly."
   ]
  },
  {
   "cell_type": "code",
   "execution_count": null,
   "metadata": {},
   "outputs": [],
   "source": [
    "# Using plotly express\n",
    "\n",
    "fig = px.scatter(orders, x='Sales', y='Profit', title='Sales vs Profit')\n",
    "pyo.plot(fig)"
   ]
  },
  {
   "cell_type": "code",
   "execution_count": null,
   "metadata": {},
   "outputs": [],
   "source": [
    "# This houses the chart and its data\n",
    "\n",
    "data = [go.Scatter(\n",
    "    x = orders_sf.Sales,\n",
    "    y = orders_sf.Profit,\n",
    "    mode='markers',\n",
    ")]"
   ]
  },
  {
   "cell_type": "code",
   "execution_count": null,
   "metadata": {},
   "outputs": [],
   "source": [
    "#This houses the chart properties eg. title and axis title\n",
    "\n",
    "layout = go.Layout(\n",
    "    title='Sales vs Profit Chart',\n",
    "    xaxis=dict(title = 'Sales in K'),\n",
    "    yaxis=dict(title = 'Profit in K'),\n",
    "    hovermode='closest'\n",
    ")"
   ]
  },
  {
   "cell_type": "code",
   "execution_count": null,
   "metadata": {},
   "outputs": [],
   "source": [
    "fig = go.Figure(data=data, layout=layout)"
   ]
  },
  {
   "cell_type": "code",
   "execution_count": null,
   "metadata": {},
   "outputs": [],
   "source": [
    "\n",
    "pyo.plot(fig)"
   ]
  },
  {
   "cell_type": "markdown",
   "metadata": {},
   "source": [
    "### Plotly Bar Chart"
   ]
  },
  {
   "cell_type": "code",
   "execution_count": null,
   "metadata": {},
   "outputs": [],
   "source": [
    "# we will like to plot a bar chart of the sales by region \n",
    "# this can be done using the groupby function\n",
    "\n",
    "region_sales = orders.groupby('Region')['Sales'].mean()\n",
    "region_sales"
   ]
  },
  {
   "cell_type": "code",
   "execution_count": null,
   "metadata": {},
   "outputs": [],
   "source": [
    "data = [go.Bar(\n",
    "    x = region_sales.index,\n",
    "    y = region_sales.values,\n",
    "    name='Average Sales by Region',\n",
    ")]\n",
    "\n",
    "layout = go.Layout(\n",
    "    title='Average Sales by Region',\n",
    "    xaxis=dict(title = 'Ship Mode'),\n",
    "    yaxis=dict(title = 'Average Sale in K')\n",
    ")"
   ]
  },
  {
   "cell_type": "code",
   "execution_count": null,
   "metadata": {},
   "outputs": [],
   "source": [
    "fig = go.Figure(data=data, layout=layout)"
   ]
  },
  {
   "cell_type": "code",
   "execution_count": null,
   "metadata": {},
   "outputs": [],
   "source": [
    "pyo.plot(fig)"
   ]
  },
  {
   "cell_type": "code",
   "execution_count": null,
   "metadata": {},
   "outputs": [],
   "source": [
    "# We can also do this using a pivot table\n",
    "\n",
    "order_priority = pd.pivot_table(data=orders, index='Order Priority', values='Sales', aggfunc='mean')\n",
    "order_priority"
   ]
  },
  {
   "cell_type": "code",
   "execution_count": null,
   "metadata": {},
   "outputs": [],
   "source": [
    "# using plotly express\n",
    "fig = px.bar(order_priority, x=order_priority.index, y=order_priority.Sales,\n",
    "              title='Sales by Priority', labels=dict(x='Priority', y='Sales in M'))\n",
    "\n",
    "pyo.plot(fig)"
   ]
  },
  {
   "cell_type": "code",
   "execution_count": null,
   "metadata": {},
   "outputs": [],
   "source": [
    "data = [go.Bar(\n",
    "    x=order_priority.index,\n",
    "    y=order_priority.Sales,\n",
    "    name='Avg Sales by Priority'\n",
    ")]\n",
    "\n",
    "layout = go.Layout(\n",
    "    title='Average Sales by Priority'\n",
    ")"
   ]
  },
  {
   "cell_type": "code",
   "execution_count": null,
   "metadata": {},
   "outputs": [],
   "source": [
    "fig = go.Figure(data=data, layout=layout)"
   ]
  },
  {
   "cell_type": "code",
   "execution_count": null,
   "metadata": {},
   "outputs": [],
   "source": [
    "pyo.plot(fig)"
   ]
  },
  {
   "cell_type": "code",
   "execution_count": null,
   "metadata": {},
   "outputs": [],
   "source": [
    "# Let's plot the sum of sales by ship mode\n",
    "\n",
    "ship_mode = orders.groupby('Ship Mode')[['Sales', 'Profit']].sum()\n",
    "ship_mode"
   ]
  },
  {
   "cell_type": "code",
   "execution_count": null,
   "metadata": {},
   "outputs": [],
   "source": [
    "fig = px.bar(data_frame=ship_mode, x=ship_mode.index, y=['Sales', 'Profit'],\n",
    "             title='Sales vs Profit by Ship Mode', labels=dict(variable='Ship Mode', value='Amount'), \n",
    "             barmode='group',text_auto=True)\n",
    "\n",
    "pyo.plot(fig)"
   ]
  },
  {
   "cell_type": "code",
   "execution_count": null,
   "metadata": {},
   "outputs": [],
   "source": [
    "# using plotly graph objects\n",
    "\n",
    "bar_traces = [go.Bar(\n",
    "    x = ship_mode.index,\n",
    "    y = ship_mode[colname],\n",
    "    name=colname\n",
    "\n",
    ")for colname in ship_mode.columns]"
   ]
  },
  {
   "cell_type": "code",
   "execution_count": null,
   "metadata": {},
   "outputs": [],
   "source": [
    "# Create layout and figure and then plot\n",
    "# To make a stacked bar chart, we add barmode = 'stack' as a parameter in the layout\n",
    "\n",
    "layout = go.Layout(title='Sales vs Profit by Ship Mode')\n",
    "\n",
    "fig = go.Figure(data=bar_traces, layout=layout)\n",
    "\n",
    "pyo.plot(fig)"
   ]
  },
  {
   "cell_type": "markdown",
   "metadata": {},
   "source": [
    "### Plotly Line Chart"
   ]
  },
  {
   "cell_type": "markdown",
   "metadata": {},
   "source": [
    "Let's use our `Canada Immigration` dataset to make a line chart using Plotly."
   ]
  },
  {
   "cell_type": "code",
   "execution_count": null,
   "metadata": {},
   "outputs": [],
   "source": [
    "# Using another dataset let's make a line chart\n",
    "\n",
    "df_can = pd.read_csv('Canada_Immigration_Data.csv')\n",
    "\n",
    "df_can.head()\n"
   ]
  },
  {
   "cell_type": "code",
   "execution_count": null,
   "metadata": {},
   "outputs": [],
   "source": [
    "df_can = df_can.set_index('Country') # set Country column as index"
   ]
  },
  {
   "cell_type": "code",
   "execution_count": null,
   "metadata": {},
   "outputs": [],
   "source": [
    "years = list(map(str, range(1980,2014,1)))"
   ]
  },
  {
   "cell_type": "code",
   "execution_count": null,
   "metadata": {},
   "outputs": [],
   "source": [
    "# Create a subset for brazil immigration to be visualized\n",
    "\n",
    "df_bra =  df_can.loc['Brazil', years]"
   ]
  },
  {
   "cell_type": "code",
   "execution_count": null,
   "metadata": {},
   "outputs": [],
   "source": [
    "# using plotly express\n",
    "# let's plot the trend of Brazilian immigrants to Canada\n",
    "\n",
    "fig = px.line(df_bra, x=df_bra.index, y=df_bra.values, title='Brazil Immigration to Canada by Year')\n",
    "pyo.plot(fig)\n"
   ]
  },
  {
   "cell_type": "code",
   "execution_count": null,
   "metadata": {},
   "outputs": [],
   "source": [
    "# Using plotly graph objects we can make the same plot\n",
    "\n",
    "data = [go.Scatter(\n",
    "    x = df_bra.index,\n",
    "    y = df_bra.values,\n",
    "    name = 'Brazil Immigration to Canada by Year',\n",
    "    mode='lines'\n",
    ")]\n",
    "\n",
    "layout = go.Layout(\n",
    "    title='Brazil Immigration to Canada by Year',\n",
    "    xaxis=dict(title = 'Year'),\n",
    "    yaxis=dict(title = 'No. of Immigrants')\n",
    ")"
   ]
  },
  {
   "cell_type": "code",
   "execution_count": null,
   "metadata": {},
   "outputs": [],
   "source": [
    "fig = go.Figure(data=data, layout=layout)"
   ]
  },
  {
   "cell_type": "code",
   "execution_count": null,
   "metadata": {},
   "outputs": [],
   "source": [
    "pyo.plot(fig)"
   ]
  },
  {
   "cell_type": "markdown",
   "metadata": {},
   "source": [
    "We can see the line chart. Now let's see how we can plot a multi line chart. We can compare the immigration trend of the countries Brazil and Nigeria. "
   ]
  },
  {
   "cell_type": "code",
   "execution_count": null,
   "metadata": {},
   "outputs": [],
   "source": [
    "# create a subset of the dataset to include countries Brazil and Nigeria\n",
    "\n",
    "df2 = df_can.pivot_table(values=years, index='Country')\n",
    "df3 = df2.loc[['Brazil', 'Nigeria'],:].T\n"
   ]
  },
  {
   "cell_type": "code",
   "execution_count": null,
   "metadata": {},
   "outputs": [],
   "source": [
    "df3.head()"
   ]
  },
  {
   "cell_type": "code",
   "execution_count": null,
   "metadata": {},
   "outputs": [],
   "source": [
    "# using plotly express\n",
    "\n",
    "fig = px.line(df3, x=df3.index, y=['Brazil', 'Nigeria'], title='Brazil vs Nigeria Immigration Trend to Canada by Year',\n",
    "              labels=dict(value='No. of Immigrants', variable='Country'))\n",
    "pyo.plot(fig)"
   ]
  },
  {
   "cell_type": "code",
   "execution_count": null,
   "metadata": {},
   "outputs": [],
   "source": [
    "# using plotly graph object\n",
    "# we will have to create traces for each line we want to plot\n",
    "\n",
    "trace0 = go.Scatter(\n",
    "    x=df3.index,\n",
    "    y=df3['Brazil'],\n",
    "    mode='markers + lines', # to add markers to the line\n",
    "    name='Brazil'\n",
    ")\n",
    "\n",
    "trace1 = go.Scatter(\n",
    "    x=df3.index,\n",
    "    y=df3['Nigeria'],\n",
    "    name='Nigeria',\n",
    "    mode='lines'\n",
    ")\n"
   ]
  },
  {
   "cell_type": "code",
   "execution_count": null,
   "metadata": {},
   "outputs": [],
   "source": [
    "# Add the traces to the data object\n",
    "\n",
    "data = [trace0, trace1]"
   ]
  },
  {
   "cell_type": "code",
   "execution_count": null,
   "metadata": {},
   "outputs": [],
   "source": [
    "# Create the layout\n",
    "\n",
    "layout = go.Layout(title='Brazil vs Nigeria Immigration Trend to Canada by Year')"
   ]
  },
  {
   "cell_type": "code",
   "execution_count": null,
   "metadata": {},
   "outputs": [],
   "source": [
    "fig = go.Figure(data=data, layout=layout)"
   ]
  },
  {
   "cell_type": "code",
   "execution_count": null,
   "metadata": {},
   "outputs": [],
   "source": [
    "pyo.plot(fig)"
   ]
  },
  {
   "cell_type": "markdown",
   "metadata": {},
   "source": [
    "We can automate creating traces by using list comprehension as in below."
   ]
  },
  {
   "cell_type": "code",
   "execution_count": null,
   "metadata": {},
   "outputs": [],
   "source": [
    "df4 = df2.loc[['Brazil', 'Nigeria'],:]\n",
    "df4"
   ]
  },
  {
   "cell_type": "code",
   "execution_count": null,
   "metadata": {},
   "outputs": [],
   "source": [
    "# Create a traces object and add each trace by looping through the rows \n",
    "\n",
    "traces = [go.Scatter(\n",
    "    x = df4.columns,\n",
    "    y = df4.loc[rowname],\n",
    "    mode='markers + lines',\n",
    "    name=rowname\n",
    ") for rowname in df4.index]"
   ]
  },
  {
   "cell_type": "code",
   "execution_count": null,
   "metadata": {},
   "outputs": [],
   "source": [
    "layout = go.Layout(title='Brazil vs Nigeria Immigration Trend to Canada by Year')"
   ]
  },
  {
   "cell_type": "code",
   "execution_count": null,
   "metadata": {},
   "outputs": [],
   "source": [
    "fig = go.Figure(data=traces, layout=layout)"
   ]
  },
  {
   "cell_type": "code",
   "execution_count": null,
   "metadata": {},
   "outputs": [],
   "source": [
    "pyo.plot(fig)"
   ]
  },
  {
   "cell_type": "markdown",
   "metadata": {},
   "source": [
    "### Combo Chart - Bar and Line Chart"
   ]
  },
  {
   "cell_type": "markdown",
   "metadata": {},
   "source": [
    "We can combine two plots such as a bar plot and a line plot together into a combo chart. Create traces for each chart and then plot."
   ]
  },
  {
   "cell_type": "code",
   "execution_count": null,
   "metadata": {},
   "outputs": [],
   "source": [
    "ship_mode"
   ]
  },
  {
   "cell_type": "code",
   "execution_count": null,
   "metadata": {},
   "outputs": [],
   "source": [
    "trace0 = go.Bar(\n",
    "    x=ship_mode.index,\n",
    "    y=ship_mode['Sales'],\n",
    "    name='Sales',\n",
    "    marker=dict(color = 'grey')\n",
    ")\n",
    "\n",
    "trace1 = go.Scatter(\n",
    "    x=ship_mode.index,\n",
    "    y=ship_mode['Profit'],\n",
    "    name='Profit',\n",
    "    mode='markers+lines'\n",
    ")"
   ]
  },
  {
   "cell_type": "code",
   "execution_count": null,
   "metadata": {},
   "outputs": [],
   "source": [
    "data = [trace0, trace1]\n",
    "\n",
    "layout = go.Layout(title='Sales vs Profit by Ship Mode')\n",
    "\n",
    "fig = go.Figure(data=data, layout=layout)\n",
    "\n",
    "pyo.plot(fig)"
   ]
  },
  {
   "cell_type": "markdown",
   "metadata": {},
   "source": [
    "### Plotly Bubble chart"
   ]
  },
  {
   "cell_type": "code",
   "execution_count": null,
   "metadata": {},
   "outputs": [],
   "source": [
    "# Using our sales dataset, we will try to plot a bubble chart\n",
    "\n",
    "orders.head(2)"
   ]
  },
  {
   "cell_type": "code",
   "execution_count": null,
   "metadata": {},
   "outputs": [],
   "source": [
    "# Creating the bubble chart\n",
    "\n",
    "data = [go.Scatter(\n",
    "    x=orders['Sales'],\n",
    "    y=orders['Profit'],\n",
    "    text=orders['Customer Name'],\n",
    "    mode='markers',\n",
    "    marker=dict(size=100 * orders['Discount'])\n",
    ")]\n",
    "\n",
    "layout = go.Layout(\n",
    "    title='Sales vs Profit by Discount',\n",
    "    xaxis=dict(title='Sales'),\n",
    "    yaxis=dict(title = 'Profit'),\n",
    "    hovermode='closest'\n",
    "    )\n",
    "\n",
    "fig = go.Figure(data=data, layout=layout)\n",
    "\n",
    "pyo.plot(fig)"
   ]
  },
  {
   "cell_type": "code",
   "execution_count": null,
   "metadata": {},
   "outputs": [],
   "source": [
    "trace0 = go.Scatter(\n",
    "    x=orders['Sales'][orders['Order Priority']=='High'],\n",
    "    y=orders['Profit'][orders['Order Priority']=='High'],\n",
    "    name='High',\n",
    "    mode='markers',\n",
    "    marker=dict(size=100 * orders['Discount'][orders['Order Priority']=='High'])\n",
    ")\n",
    "\n",
    "trace1 = go.Scatter(\n",
    "    x=orders['Sales'][orders['Order Priority']=='Medium'],\n",
    "    y=orders['Profit'][orders['Order Priority']=='Medium'],\n",
    "    name='Medium',\n",
    "    mode='markers',\n",
    "    marker=dict(size=100 * orders['Discount'][orders['Order Priority']=='Medium'])\n",
    ")\n",
    "\n",
    "trace2 = go.Scatter(\n",
    "    x=orders['Sales'][orders['Order Priority']=='Low'],\n",
    "    y=orders['Profit'][orders['Order Priority']=='Low'],\n",
    "    name='Low',\n",
    "    mode='markers',\n",
    "    marker=dict(size=100 * orders['Discount'][orders['Order Priority']=='Low'])\n",
    ")"
   ]
  },
  {
   "cell_type": "code",
   "execution_count": null,
   "metadata": {},
   "outputs": [],
   "source": [
    "data = [trace0, trace1, trace2]\n",
    "\n",
    "layout = go.Layout(\n",
    "    title='Sales vs Profit by Discount',\n",
    "    xaxis=dict(title='Sales'),\n",
    "    yaxis=dict(title = 'Profit'),\n",
    "    hovermode='closest'\n",
    "    )\n",
    "\n",
    "fig = go.Figure(data=data, layout=layout)\n",
    "\n",
    "pyo.plot(fig)"
   ]
  },
  {
   "cell_type": "code",
   "execution_count": null,
   "metadata": {},
   "outputs": [],
   "source": [
    "# Doing the above using plotly express\n",
    "\n",
    "fig = px.scatter(orders, x='Sales', y='Profit', size=100* orders['Discount'], color=orders['Order Priority'],\n",
    "           title='Sales vs Profit by Discount')\n",
    "pyo.plot(fig)"
   ]
  },
  {
   "cell_type": "markdown",
   "metadata": {},
   "source": [
    "### Plotly Histogram"
   ]
  },
  {
   "cell_type": "code",
   "execution_count": null,
   "metadata": {},
   "outputs": [],
   "source": [
    "# Using plotly express\n",
    "\n",
    "fig = px.histogram(orders, x=orders['Sales'], nbins=30, title='Sales Distribution')\n",
    "pyo.plot(fig)"
   ]
  },
  {
   "cell_type": "code",
   "execution_count": null,
   "metadata": {},
   "outputs": [],
   "source": [
    "fig = px.histogram(orders, x='Sales', category_orders=dict(mode=orders['Ship Mode']))\n",
    "pyo.plot(fig)"
   ]
  },
  {
   "cell_type": "code",
   "execution_count": null,
   "metadata": {},
   "outputs": [],
   "source": [
    "# Using plotly graph objects\n",
    "\n",
    "trace0 = go.Histogram(\n",
    "    x = orders['Sales'],\n",
    "    name='Sales',\n",
    "    opacity=0.5\n",
    ")\n",
    "\n",
    "trace1 = go.Histogram(\n",
    "    x = orders['Profit'],\n",
    "    name='Profit',\n",
    "    opacity=0.5\n",
    ")"
   ]
  },
  {
   "cell_type": "code",
   "execution_count": null,
   "metadata": {},
   "outputs": [],
   "source": [
    "data = [trace0, trace1]\n",
    "\n",
    "layout = go.Layout(\n",
    "    title='Sales vs Profit Disrtibution'\n",
    "    )\n",
    "\n",
    "fig = go.Figure(data=data, layout=layout)\n",
    "\n",
    "pyo.plot(fig)"
   ]
  },
  {
   "cell_type": "markdown",
   "metadata": {},
   "source": [
    "### Plotly Box Plot"
   ]
  },
  {
   "cell_type": "code",
   "execution_count": null,
   "metadata": {},
   "outputs": [],
   "source": [
    "# We want to visualize the customer segments\n",
    "\n",
    "orders['Customer Segment'].value_counts()"
   ]
  },
  {
   "cell_type": "code",
   "execution_count": null,
   "metadata": {},
   "outputs": [],
   "source": [
    "# Create subset of data for different customer segments\n",
    "\n",
    "corp = orders['Sales'][orders['Customer Segment'] == 'Corporate']\n",
    "ho = orders['Sales'][orders['Customer Segment'] == 'Home Office']\n",
    "cons = orders['Sales'][orders['Customer Segment'] == 'Consumer']\n",
    "smb = orders['Sales'][orders['Customer Segment'] == 'Small Business']"
   ]
  },
  {
   "cell_type": "code",
   "execution_count": null,
   "metadata": {},
   "outputs": [],
   "source": [
    "# using plotly express\n",
    "\n",
    "fig = px.box(orders, y='Sales', x='Customer Segment', color='Customer Segment', title='Sales Distribution Across Shipping Modes')\n",
    "pyo.plot(fig)"
   ]
  },
  {
   "cell_type": "code",
   "execution_count": null,
   "metadata": {},
   "outputs": [],
   "source": [
    "# Using graph object\n",
    "\n",
    "# Create traces for each segment\n",
    "\n",
    "trace0 = go.Box(\n",
    "    y=corp,\n",
    "    name='Corporate'\n",
    ")\n",
    "\n",
    "trace1 = go.Box(\n",
    "    y=ho,\n",
    "    name='Home Office'\n",
    ")\n",
    "\n",
    "trace2 = go.Box(\n",
    "    y=cons,\n",
    "    name='Consumer'\n",
    ")\n",
    "\n",
    "trace3 = go.Box(\n",
    "    y=smb,\n",
    "    name='Small Business'\n",
    ")"
   ]
  },
  {
   "cell_type": "code",
   "execution_count": null,
   "metadata": {},
   "outputs": [],
   "source": [
    "data = [trace0, trace1, trace2, trace3]\n",
    "\n",
    "layout = go.Layout(\n",
    "    title='Sales Distribution Across Customer Segments',\n",
    "    xaxis=dict(title='Customer Segment'),\n",
    "    yaxis=dict(title='Sales')\n",
    "    )\n",
    "\n",
    "fig = go.Figure(data=data, layout=layout)\n",
    "\n",
    "pyo.plot(fig)"
   ]
  },
  {
   "cell_type": "markdown",
   "metadata": {},
   "source": [
    "That is pretty much the basics of visualizing data using Plotly. Plotly makes our visualizations more interactive.\n",
    "\n",
    "Thank you for completing this lab."
   ]
  }
 ],
 "metadata": {
  "kernelspec": {
   "display_name": "venv2",
   "language": "python",
   "name": "python3"
  },
  "language_info": {
   "codemirror_mode": {
    "name": "ipython",
    "version": 3
   },
   "file_extension": ".py",
   "mimetype": "text/x-python",
   "name": "python",
   "nbconvert_exporter": "python",
   "pygments_lexer": "ipython3",
   "version": "3.10.12"
  }
 },
 "nbformat": 4,
 "nbformat_minor": 2
}
