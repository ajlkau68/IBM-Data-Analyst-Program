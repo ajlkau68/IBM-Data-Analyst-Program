{
 "cells": [
  {
   "cell_type": "markdown",
   "metadata": {},
   "source": [
    "## **One Hot Encoding**"
   ]
  },
  {
   "cell_type": "code",
   "execution_count": null,
   "metadata": {},
   "outputs": [],
   "source": [
    "import numpy as np\n",
    "import pandas as pd\n",
    "from sklearn.linear_model import LinearRegression\n",
    "import matplotlib.pyplot as plt"
   ]
  },
  {
   "cell_type": "code",
   "execution_count": null,
   "metadata": {},
   "outputs": [],
   "source": [
    "df = pd.read_csv('carprices.csv')\n",
    "df.head()"
   ]
  },
  {
   "cell_type": "code",
   "execution_count": null,
   "metadata": {},
   "outputs": [],
   "source": [
    "df.corr()"
   ]
  },
  {
   "cell_type": "code",
   "execution_count": null,
   "metadata": {},
   "outputs": [],
   "source": [
    "# Plotting the data points we can see that there seems to be a negative correlation between the mileage and the sell price\n",
    "# Therefore a linear regression can be used\n",
    "\n",
    "x = df[['Mileage']]\n",
    "y = df['Sell Price($)']\n",
    "\n",
    "plt.scatter(x, y)\n",
    "plt.show()"
   ]
  },
  {
   "cell_type": "code",
   "execution_count": null,
   "metadata": {},
   "outputs": [],
   "source": [
    "# Let's get the dummy variables for the categorical data using pd.get_dummies\n",
    "\n",
    "dummies = pd.get_dummies(df['Car Model'])\n",
    "final_dummies = dummies.drop('Audi A5', axis=1)\n",
    "\n",
    "# We can merge the df and the final dummies\n",
    "final_df = pd.concat([df, final_dummies], axis=1)\n",
    "final_df = final_df.drop('Car Model', axis=1)\n",
    "final_df.head()"
   ]
  },
  {
   "cell_type": "code",
   "execution_count": null,
   "metadata": {},
   "outputs": [],
   "source": [
    "# We can now get our X and y variables and do our linear regression\n",
    "\n",
    "lre = LinearRegression()\n",
    "\n",
    "X = final_df.drop('Sell Price($)', axis=1)\n",
    "\n",
    "lre.fit(X, y)\n",
    "\n",
    "print('The r2 score is: ', lre.score(X, y))"
   ]
  },
  {
   "cell_type": "code",
   "execution_count": null,
   "metadata": {},
   "outputs": [],
   "source": [
    "yhat = lre.predict(X)\n",
    "yhat"
   ]
  },
  {
   "cell_type": "code",
   "execution_count": null,
   "metadata": {},
   "outputs": [],
   "source": [
    "final_df.head()"
   ]
  },
  {
   "cell_type": "code",
   "execution_count": null,
   "metadata": {},
   "outputs": [],
   "source": [
    "# Exercise:\n",
    "# 1. Predict price of a Mercedes Benz that is 4 yrs old and a mileage of 45000\n",
    "\n",
    "print('The price of the Mercedes Benz is: ', lre.predict([[45000, 4, 0, 1]]))"
   ]
  },
  {
   "cell_type": "code",
   "execution_count": null,
   "metadata": {},
   "outputs": [],
   "source": [
    "# 2. Predict price of a BMW that is 7 yrs old and a mileage of 86000\n",
    "\n",
    "print('The price of the BMW is: ', lre.predict([[86000, 7, 1, 0]]))"
   ]
  },
  {
   "cell_type": "code",
   "execution_count": null,
   "metadata": {},
   "outputs": [],
   "source": [
    "# 3. Tell the accuracy(score) of the model.\n",
    "\n",
    "print('The accuracy of the model is: ', lre.score(X, y))"
   ]
  },
  {
   "cell_type": "code",
   "execution_count": null,
   "metadata": {},
   "outputs": [],
   "source": [
    "# Predict the price of an Audi that is 8 yrs old and a mileage of 49500\n",
    "\n",
    "print('The price of the Audi is: ', lre.predict([[49500, 8, 0, 0]]))"
   ]
  },
  {
   "cell_type": "code",
   "execution_count": null,
   "metadata": {},
   "outputs": [],
   "source": [
    "df2 = df\n",
    "\n",
    "df2['Predicted Price ($)'] = yhat\n",
    "df2"
   ]
  },
  {
   "cell_type": "code",
   "execution_count": null,
   "metadata": {},
   "outputs": [],
   "source": [
    "# Calculating the mean squared error\n",
    "from sklearn.metrics import mean_squared_error\n",
    "\n",
    "mse = mean_squared_error(y, yhat)\n",
    "print('The mean squared error is: ', mse)"
   ]
  },
  {
   "cell_type": "code",
   "execution_count": null,
   "metadata": {},
   "outputs": [],
   "source": [
    "import seaborn as sns\n",
    "\n",
    "ax1 = sns.distplot(y, hist=False, color='r', label='Actual Value')\n",
    "sns.distplot(yhat, hist=False, color='g', label='Predicted Value', ax=ax1)\n",
    "\n",
    "plt.show()\n"
   ]
  }
 ],
 "metadata": {
  "kernelspec": {
   "display_name": "venv2",
   "language": "python",
   "name": "python3"
  },
  "language_info": {
   "codemirror_mode": {
    "name": "ipython",
    "version": 3
   },
   "file_extension": ".py",
   "mimetype": "text/x-python",
   "name": "python",
   "nbconvert_exporter": "python",
   "pygments_lexer": "ipython3",
   "version": "3.10.12"
  },
  "orig_nbformat": 4
 },
 "nbformat": 4,
 "nbformat_minor": 2
}
